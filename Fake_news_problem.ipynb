{
 "cells": [
  {
   "cell_type": "markdown",
   "metadata": {},
   "source": [
    "# Problem Statement\n",
    "Develop a model to detect if a given news article is a fake one or a legitimate(real) one. \n",
    "\n",
    "# Dataset location\n",
    "https://www.kaggle.com/c/fake-news/data\n",
    "\n"
   ]
  },
  {
   "cell_type": "markdown",
   "metadata": {},
   "source": [
    "# About dataset\n",
    "The dataset consists of 3 CSV files: \"train.csv\", \"test.csv\" and \"submit.csv\".\n",
    "\n",
    "\"train.csv\" contains the following columns\n",
    "•\t\"id\" of article\n",
    "•\t\"Title\" of the article\n",
    "•\t\"Text\" of the article\n",
    "•\t\"Author\" of the article\n",
    "•\t\"Label\" of article\n",
    "    o\t1: fake\n",
    "    o\t0: real\n",
    "\n",
    "\"test.csv\" contains the same attributes as \"train.csv\", but without the \"label\" attribute. Prediction is to be performed on these articles.\n",
    "\n",
    "\"submit.csv\" contains a sample submission format. For every article in the \"test.csv\" file, the submission CSV file should have two columns: `id` and `label`. The `id` column should refer to a row in the \"test.csv\" file, and the `label` column should refer to its label i.e. real (`0`), or fake (`1`).\n"
   ]
  },
  {
   "cell_type": "code",
   "execution_count": 1,
   "metadata": {},
   "outputs": [],
   "source": [
    "#import libraries\n",
    "\n",
    "import numpy as np\n",
    "import pandas as pd\n",
    "\n",
    "from sklearn.naive_bayes import MultinomialNB\n",
    "from sklearn.linear_model import LogisticRegression\n",
    "\n",
    "from sklearn.model_selection import train_test_split\n",
    "from sklearn.feature_extraction.text import TfidfVectorizer\n",
    "from sklearn.feature_extraction.text import CountVectorizer\n",
    "from sklearn import metrics\n",
    "\n",
    "import itertools\n",
    "\n",
    "import matplotlib.pyplot as plt"
   ]
  },
  {
   "cell_type": "markdown",
   "metadata": {},
   "source": [
    "# Read Data"
   ]
  },
  {
   "cell_type": "code",
   "execution_count": 2,
   "metadata": {},
   "outputs": [
    {
     "data": {
      "text/html": [
       "<div>\n",
       "<style scoped>\n",
       "    .dataframe tbody tr th:only-of-type {\n",
       "        vertical-align: middle;\n",
       "    }\n",
       "\n",
       "    .dataframe tbody tr th {\n",
       "        vertical-align: top;\n",
       "    }\n",
       "\n",
       "    .dataframe thead th {\n",
       "        text-align: right;\n",
       "    }\n",
       "</style>\n",
       "<table border=\"1\" class=\"dataframe\">\n",
       "  <thead>\n",
       "    <tr style=\"text-align: right;\">\n",
       "      <th></th>\n",
       "      <th>title</th>\n",
       "      <th>author</th>\n",
       "      <th>text</th>\n",
       "      <th>label</th>\n",
       "    </tr>\n",
       "    <tr>\n",
       "      <th>id</th>\n",
       "      <th></th>\n",
       "      <th></th>\n",
       "      <th></th>\n",
       "      <th></th>\n",
       "    </tr>\n",
       "  </thead>\n",
       "  <tbody>\n",
       "    <tr>\n",
       "      <th>0</th>\n",
       "      <td>House Dem Aide: We Didn’t Even See Comey’s Let...</td>\n",
       "      <td>Darrell Lucus</td>\n",
       "      <td>House Dem Aide: We Didn’t Even See Comey’s Let...</td>\n",
       "      <td>1</td>\n",
       "    </tr>\n",
       "    <tr>\n",
       "      <th>1</th>\n",
       "      <td>FLYNN: Hillary Clinton, Big Woman on Campus - ...</td>\n",
       "      <td>Daniel J. Flynn</td>\n",
       "      <td>Ever get the feeling your life circles the rou...</td>\n",
       "      <td>0</td>\n",
       "    </tr>\n",
       "    <tr>\n",
       "      <th>2</th>\n",
       "      <td>Why the Truth Might Get You Fired</td>\n",
       "      <td>Consortiumnews.com</td>\n",
       "      <td>Why the Truth Might Get You Fired October 29, ...</td>\n",
       "      <td>1</td>\n",
       "    </tr>\n",
       "    <tr>\n",
       "      <th>3</th>\n",
       "      <td>15 Civilians Killed In Single US Airstrike Hav...</td>\n",
       "      <td>Jessica Purkiss</td>\n",
       "      <td>Videos 15 Civilians Killed In Single US Airstr...</td>\n",
       "      <td>1</td>\n",
       "    </tr>\n",
       "    <tr>\n",
       "      <th>4</th>\n",
       "      <td>Iranian woman jailed for fictional unpublished...</td>\n",
       "      <td>Howard Portnoy</td>\n",
       "      <td>Print \\nAn Iranian woman has been sentenced to...</td>\n",
       "      <td>1</td>\n",
       "    </tr>\n",
       "  </tbody>\n",
       "</table>\n",
       "</div>"
      ],
      "text/plain": [
       "                                                title              author  \\\n",
       "id                                                                          \n",
       "0   House Dem Aide: We Didn’t Even See Comey’s Let...       Darrell Lucus   \n",
       "1   FLYNN: Hillary Clinton, Big Woman on Campus - ...     Daniel J. Flynn   \n",
       "2                   Why the Truth Might Get You Fired  Consortiumnews.com   \n",
       "3   15 Civilians Killed In Single US Airstrike Hav...     Jessica Purkiss   \n",
       "4   Iranian woman jailed for fictional unpublished...      Howard Portnoy   \n",
       "\n",
       "                                                 text  label  \n",
       "id                                                            \n",
       "0   House Dem Aide: We Didn’t Even See Comey’s Let...      1  \n",
       "1   Ever get the feeling your life circles the rou...      0  \n",
       "2   Why the Truth Might Get You Fired October 29, ...      1  \n",
       "3   Videos 15 Civilians Killed In Single US Airstr...      1  \n",
       "4   Print \\nAn Iranian woman has been sentenced to...      1  "
      ]
     },
     "execution_count": 2,
     "metadata": {},
     "output_type": "execute_result"
    }
   ],
   "source": [
    "train_df = pd.read_csv('./Fake_news_data/train.csv',index_col='id')\n",
    "train_df.head()"
   ]
  },
  {
   "cell_type": "markdown",
   "metadata": {},
   "source": [
    "# Data Preprocessing"
   ]
  },
  {
   "cell_type": "code",
   "execution_count": 3,
   "metadata": {},
   "outputs": [
    {
     "name": "stdout",
     "output_type": "stream",
     "text": [
      "<class 'pandas.core.frame.DataFrame'>\n",
      "Int64Index: 20800 entries, 0 to 20799\n",
      "Data columns (total 4 columns):\n",
      " #   Column  Non-Null Count  Dtype \n",
      "---  ------  --------------  ----- \n",
      " 0   title   20242 non-null  object\n",
      " 1   author  18843 non-null  object\n",
      " 2   text    20761 non-null  object\n",
      " 3   label   20800 non-null  int64 \n",
      "dtypes: int64(1), object(3)\n",
      "memory usage: 812.5+ KB\n"
     ]
    }
   ],
   "source": [
    "train_df.info()"
   ]
  },
  {
   "cell_type": "code",
   "execution_count": 4,
   "metadata": {},
   "outputs": [
    {
     "data": {
      "text/plain": [
       "title      558\n",
       "author    1957\n",
       "text        39\n",
       "label        0\n",
       "dtype: int64"
      ]
     },
     "execution_count": 4,
     "metadata": {},
     "output_type": "execute_result"
    }
   ],
   "source": [
    "train_df.isnull().sum()"
   ]
  },
  {
   "cell_type": "code",
   "execution_count": 5,
   "metadata": {},
   "outputs": [
    {
     "name": "stdout",
     "output_type": "stream",
     "text": [
      "4160\n",
      "Ever get the feeling your life circles the roundabout rather than heads in a straight line toward the intended destination? [Hillary Clinton remains the big woman on campus in leafy, liberal Wellesley, Massachusetts. Everywhere else votes her most likely to don her inauguration dress for the remainder of her days the way Miss Havisham forever wore that wedding dress.  Speaking of Great Expectations, Hillary Rodham overflowed with them 48 years ago when she first addressed a Wellesley graduating class. The president of the college informed those gathered in 1969 that the students needed “no debate so far as I could ascertain as to who their spokesman was to be” (kind of the like the Democratic primaries in 2016 minus the   terms unknown then even at a Seven Sisters school). “I am very glad that Miss Adams made it clear that what I am speaking for today is all of us —  the 400 of us,” Miss Rodham told her classmates. After appointing herself Edger Bergen to the Charlie McCarthys and Mortimer Snerds in attendance, the    bespectacled in granny glasses (awarding her matronly wisdom —  or at least John Lennon wisdom) took issue with the previous speaker. Despite becoming the first   to win election to a seat in the U. S. Senate since Reconstruction, Edward Brooke came in for criticism for calling for “empathy” for the goals of protestors as he criticized tactics. Though Clinton in her senior thesis on Saul Alinsky lamented “Black Power demagogues” and “elitist arrogance and repressive intolerance” within the New Left, similar words coming out of a Republican necessitated a brief rebuttal. “Trust,” Rodham ironically observed in 1969, “this is one word that when I asked the class at our rehearsal what it was they wanted me to say for them, everyone came up to me and said ‘Talk about trust, talk about the lack of trust both for us and the way we feel about others. Talk about the trust bust.’ What can you say about it? What can you say about a feeling that permeates a generation and that perhaps is not even understood by those who are distrusted?” The “trust bust” certainly busted Clinton’s 2016 plans. She certainly did not even understand that people distrusted her. After Whitewater, Travelgate, the vast   conspiracy, Benghazi, and the missing emails, Clinton found herself the distrusted voice on Friday. There was a load of compromising on the road to the broadening of her political horizons. And distrust from the American people —  Trump edged her 48 percent to 38 percent on the question immediately prior to November’s election —  stood as a major reason for the closing of those horizons. Clinton described her vanquisher and his supporters as embracing a “lie,” a “con,” “alternative facts,” and “a   assault on truth and reason. ” She failed to explain why the American people chose his lies over her truth. “As the history majors among you here today know all too well, when people in power invent their own facts and attack those who question them, it can mark the beginning of the end of a free society,” she offered. “That is not hyperbole. ” Like so many people to emerge from the 1960s, Hillary Clinton embarked upon a long, strange trip. From high school Goldwater Girl and Wellesley College Republican president to Democratic politician, Clinton drank in the times and the place that gave her a degree. More significantly, she went from idealist to cynic, as a comparison of her two Wellesley commencement addresses show. Way back when, she lamented that “for too long our leaders have viewed politics as the art of the possible, and the challenge now is to practice politics as the art of making what appears to be impossible possible. ” Now, as the big woman on campus but the odd woman out of the White House, she wonders how her current station is even possible. “Why aren’t I 50 points ahead?” she asked in September. In May she asks why she isn’t president. The woman famously dubbed a “congenital liar” by Bill Safire concludes that lies did her in —  theirs, mind you, not hers. Getting stood up on Election Day, like finding yourself the jilted bride on your wedding day, inspires dangerous delusions.\n"
     ]
    }
   ],
   "source": [
    "print(len(train_df['text'][1]))\n",
    "print(train_df['text'][1])"
   ]
  },
  {
   "cell_type": "markdown",
   "metadata": {},
   "source": [
    "text data looks verbose, we can drop this column - as it doesn not seem valuable"
   ]
  },
  {
   "cell_type": "code",
   "execution_count": 6,
   "metadata": {},
   "outputs": [
    {
     "name": "stdout",
     "output_type": "stream",
     "text": [
      "Index(['title', 'author', 'label'], dtype='object')\n"
     ]
    }
   ],
   "source": [
    "train_df.drop(columns=['text'],inplace=True)\n",
    "print(train_df.columns)"
   ]
  },
  {
   "cell_type": "code",
   "execution_count": 7,
   "metadata": {},
   "outputs": [
    {
     "name": "stdout",
     "output_type": "stream",
     "text": [
      "Text    : FLYNN: Hillary Clinton, Big Woman on Campus - Breitbart Length    : 55\n",
      "Text    : Daniel J. Flynn Length    : 15\n"
     ]
    }
   ],
   "source": [
    "print('Text    :',train_df['title'][1],'Length    :',len(train_df['title'][1]))\n",
    "print('Text    :',train_df['author'][1],'Length    :',len(train_df['author'][1]))"
   ]
  },
  {
   "cell_type": "code",
   "execution_count": 8,
   "metadata": {},
   "outputs": [
    {
     "data": {
      "text/plain": [
       "Anonymous           61\n",
       "Doc Chaos           12\n",
       "Letsbereal           7\n",
       "Enjoykin4            7\n",
       "A. Maren             6\n",
       "                    ..\n",
       "Teapolicy            1\n",
       "Boo                  1\n",
       "Sara Walters         1\n",
       "Luke Moseley         1\n",
       "William J. Smith     1\n",
       "Name: author, Length: 369, dtype: int64"
      ]
     },
     "execution_count": 8,
     "metadata": {},
     "output_type": "execute_result"
    }
   ],
   "source": [
    "title_null_df = train_df[train_df['title'].isnull()]\n",
    "title_null_df['author'].value_counts()   #out of 558, 61 are Anonymous (~11 %)"
   ]
  },
  {
   "cell_type": "code",
   "execution_count": 9,
   "metadata": {},
   "outputs": [
    {
     "data": {
      "text/plain": [
       "Thomas Frank Explores Whether Hillary Clinton and the Democratic Party Will Address Inequality                              4\n",
       "Biden Blames “Lazy American Women” For The Economy: “They Sit Around Doing Nothing, Only Hillary Can Force Them To Work”    3\n",
       "The Onion - America's Finest News Source                                                                                    3\n",
       "North Korea Threatens ‘Sacred’ Nuclear War Against Israel if this country continue supporting ISIS                          2\n",
       "ISIS uses an industrial dough kneader to kill 250 children, roasts adults in a bakery oven in Douma, Syria                  2\n",
       "                                                                                                                           ..\n",
       "Kiev says detained Russian servicemen are accused of breaking military oath - Russia News Now                               1\n",
       "This is what happens when you don’t have the Queen, Canada tells America                                                    1\n",
       "Stanford Rape Survivor Pens Moving Essay About Life After the Trial                                                         1\n",
       "Four Arab countries bought thousands of cars from Toyota and delivered them to\"Daesh\"                                       1\n",
       "Pakistan police detain dozens of Imran Khan's supporters in Islamabad                                                       1\n",
       "Name: title, Length: 1922, dtype: int64"
      ]
     },
     "execution_count": 9,
     "metadata": {},
     "output_type": "execute_result"
    }
   ],
   "source": [
    "author_null_df = train_df[train_df['author'].isnull()]\n",
    "author_null_df['title'].value_counts()  #more distinct values"
   ]
  },
  {
   "cell_type": "markdown",
   "metadata": {},
   "source": [
    "Handle missing values  -- Both title and author has lots of missing values, Missing values at title can be dropped as it is less in number. Also, looking at the author value of title with Null, looks more like garbage (11% are Anonymous)\n",
    "\n",
    "title            558\n",
    "\n",
    "author          1957"
   ]
  },
  {
   "cell_type": "code",
   "execution_count": 10,
   "metadata": {},
   "outputs": [
    {
     "name": "stdout",
     "output_type": "stream",
     "text": [
      "Length of dataset before dropping NA from title 20800\n",
      "Length of dataset after dropping NA from title 20242\n"
     ]
    }
   ],
   "source": [
    "#drop NA from column = title\n",
    "print(\"Length of dataset before dropping NA from title\",len(train_df))\n",
    "train_df.dropna(subset=['title'],axis=0,inplace=True)\n",
    "print(\"Length of dataset after dropping NA from title\",len(train_df))"
   ]
  },
  {
   "cell_type": "code",
   "execution_count": 11,
   "metadata": {},
   "outputs": [
    {
     "name": "stdout",
     "output_type": "stream",
     "text": [
      "Length of dataset before dropping NA from title 20242\n",
      "Length of dataset after dropping NA from title 20242\n"
     ]
    }
   ],
   "source": [
    "#impute ' ' for nulls in 'author'\n",
    "print(\"Length of dataset before dropping NA from title\",len(train_df))\n",
    "train_df['author'].fillna(' ',axis=0,inplace=True)\n",
    "print(\"Length of dataset after dropping NA from title\",len(train_df))"
   ]
  },
  {
   "cell_type": "code",
   "execution_count": 12,
   "metadata": {},
   "outputs": [
    {
     "data": {
      "text/plain": [
       "title     0\n",
       "author    0\n",
       "label     0\n",
       "dtype: int64"
      ]
     },
     "execution_count": 12,
     "metadata": {},
     "output_type": "execute_result"
    }
   ],
   "source": [
    "train_df.isnull().sum()"
   ]
  },
  {
   "cell_type": "markdown",
   "metadata": {},
   "source": [
    "Create a new column with concatenated data from title and author "
   ]
  },
  {
   "cell_type": "code",
   "execution_count": 13,
   "metadata": {},
   "outputs": [
    {
     "name": "stdout",
     "output_type": "stream",
     "text": [
      "Darrell Lucus\n",
      "House Dem Aide: We Didn’t Even See Comey’s Letter Until Jason Chaffetz Tweeted It\n",
      "Darrell Lucus House Dem Aide: We Didn’t Even See Comey’s Letter Until Jason Chaffetz Tweeted It\n",
      "title           0\n",
      "author          0\n",
      "label           0\n",
      "author_title    0\n",
      "dtype: int64\n"
     ]
    }
   ],
   "source": [
    "train_df['author_title'] = train_df['author'] + ' ' + train_df['title'] \n",
    "print(train_df['author'][0])\n",
    "print(train_df['title'][0])\n",
    "print(train_df['author_title'][0])\n",
    "print(train_df.isnull().sum())"
   ]
  },
  {
   "cell_type": "code",
   "execution_count": 14,
   "metadata": {},
   "outputs": [
    {
     "data": {
      "text/html": [
       "<div>\n",
       "<style scoped>\n",
       "    .dataframe tbody tr th:only-of-type {\n",
       "        vertical-align: middle;\n",
       "    }\n",
       "\n",
       "    .dataframe tbody tr th {\n",
       "        vertical-align: top;\n",
       "    }\n",
       "\n",
       "    .dataframe thead th {\n",
       "        text-align: right;\n",
       "    }\n",
       "</style>\n",
       "<table border=\"1\" class=\"dataframe\">\n",
       "  <thead>\n",
       "    <tr style=\"text-align: right;\">\n",
       "      <th></th>\n",
       "      <th>title</th>\n",
       "      <th>author</th>\n",
       "      <th>label</th>\n",
       "      <th>author_title</th>\n",
       "      <th>author_title_len</th>\n",
       "    </tr>\n",
       "    <tr>\n",
       "      <th>id</th>\n",
       "      <th></th>\n",
       "      <th></th>\n",
       "      <th></th>\n",
       "      <th></th>\n",
       "      <th></th>\n",
       "    </tr>\n",
       "  </thead>\n",
       "  <tbody>\n",
       "    <tr>\n",
       "      <th>0</th>\n",
       "      <td>House Dem Aide: We Didn’t Even See Comey’s Let...</td>\n",
       "      <td>Darrell Lucus</td>\n",
       "      <td>1</td>\n",
       "      <td>Darrell Lucus House Dem Aide: We Didn’t Even S...</td>\n",
       "      <td>16</td>\n",
       "    </tr>\n",
       "    <tr>\n",
       "      <th>1</th>\n",
       "      <td>FLYNN: Hillary Clinton, Big Woman on Campus - ...</td>\n",
       "      <td>Daniel J. Flynn</td>\n",
       "      <td>0</td>\n",
       "      <td>Daniel J. Flynn FLYNN: Hillary Clinton, Big Wo...</td>\n",
       "      <td>12</td>\n",
       "    </tr>\n",
       "    <tr>\n",
       "      <th>2</th>\n",
       "      <td>Why the Truth Might Get You Fired</td>\n",
       "      <td>Consortiumnews.com</td>\n",
       "      <td>1</td>\n",
       "      <td>Consortiumnews.com Why the Truth Might Get You...</td>\n",
       "      <td>8</td>\n",
       "    </tr>\n",
       "    <tr>\n",
       "      <th>3</th>\n",
       "      <td>15 Civilians Killed In Single US Airstrike Hav...</td>\n",
       "      <td>Jessica Purkiss</td>\n",
       "      <td>1</td>\n",
       "      <td>Jessica Purkiss 15 Civilians Killed In Single ...</td>\n",
       "      <td>12</td>\n",
       "    </tr>\n",
       "    <tr>\n",
       "      <th>4</th>\n",
       "      <td>Iranian woman jailed for fictional unpublished...</td>\n",
       "      <td>Howard Portnoy</td>\n",
       "      <td>1</td>\n",
       "      <td>Howard Portnoy Iranian woman jailed for fictio...</td>\n",
       "      <td>16</td>\n",
       "    </tr>\n",
       "  </tbody>\n",
       "</table>\n",
       "</div>"
      ],
      "text/plain": [
       "                                                title              author  \\\n",
       "id                                                                          \n",
       "0   House Dem Aide: We Didn’t Even See Comey’s Let...       Darrell Lucus   \n",
       "1   FLYNN: Hillary Clinton, Big Woman on Campus - ...     Daniel J. Flynn   \n",
       "2                   Why the Truth Might Get You Fired  Consortiumnews.com   \n",
       "3   15 Civilians Killed In Single US Airstrike Hav...     Jessica Purkiss   \n",
       "4   Iranian woman jailed for fictional unpublished...      Howard Portnoy   \n",
       "\n",
       "    label                                       author_title  author_title_len  \n",
       "id                                                                              \n",
       "0       1  Darrell Lucus House Dem Aide: We Didn’t Even S...                16  \n",
       "1       0  Daniel J. Flynn FLYNN: Hillary Clinton, Big Wo...                12  \n",
       "2       1  Consortiumnews.com Why the Truth Might Get You...                 8  \n",
       "3       1  Jessica Purkiss 15 Civilians Killed In Single ...                12  \n",
       "4       1  Howard Portnoy Iranian woman jailed for fictio...                16  "
      ]
     },
     "execution_count": 14,
     "metadata": {},
     "output_type": "execute_result"
    }
   ],
   "source": [
    "#Plot length of author_title for every row\n",
    "#train_df['auth_title_len'] = train_df['author_title'].apply(len)\n",
    "\n",
    "train_df['author_title_len'] = train_df['author_title'].apply(lambda x: len(x.split()))\n",
    "train_df.head()"
   ]
  },
  {
   "cell_type": "code",
   "execution_count": 15,
   "metadata": {},
   "outputs": [
    {
     "data": {
      "image/png": "[encoded data removed]",
      "text/plain": [
       "<Figure size 720x360 with 1 Axes>"
      ]
     },
     "metadata": {
      "needs_background": "light"
     },
     "output_type": "display_data"
    }
   ],
   "source": [
    "plt.rcParams['figure.figsize'] = [10, 5]\n",
    "train_df.plot(y='author_title_len')\n",
    "plt.title(\"Length of words in the dataset\")\n",
    "plt.show()"
   ]
  },
  {
   "cell_type": "markdown",
   "metadata": {},
   "source": [
    "Average length of words in the dataset is 15"
   ]
  },
  {
   "cell_type": "code",
   "execution_count": 16,
   "metadata": {},
   "outputs": [
    {
     "data": {
      "text/html": [
       "<div>\n",
       "<style scoped>\n",
       "    .dataframe tbody tr th:only-of-type {\n",
       "        vertical-align: middle;\n",
       "    }\n",
       "\n",
       "    .dataframe tbody tr th {\n",
       "        vertical-align: top;\n",
       "    }\n",
       "\n",
       "    .dataframe thead th {\n",
       "        text-align: right;\n",
       "    }\n",
       "</style>\n",
       "<table border=\"1\" class=\"dataframe\">\n",
       "  <thead>\n",
       "    <tr style=\"text-align: right;\">\n",
       "      <th></th>\n",
       "      <th>author_title</th>\n",
       "      <th>author_title_len</th>\n",
       "      <th>label</th>\n",
       "    </tr>\n",
       "    <tr>\n",
       "      <th>id</th>\n",
       "      <th></th>\n",
       "      <th></th>\n",
       "      <th></th>\n",
       "    </tr>\n",
       "  </thead>\n",
       "  <tbody>\n",
       "    <tr>\n",
       "      <th>0</th>\n",
       "      <td>Darrell Lucus House Dem Aide: We Didn’t Even S...</td>\n",
       "      <td>16</td>\n",
       "      <td>1</td>\n",
       "    </tr>\n",
       "    <tr>\n",
       "      <th>1</th>\n",
       "      <td>Daniel J. Flynn FLYNN: Hillary Clinton, Big Wo...</td>\n",
       "      <td>12</td>\n",
       "      <td>0</td>\n",
       "    </tr>\n",
       "    <tr>\n",
       "      <th>2</th>\n",
       "      <td>Consortiumnews.com Why the Truth Might Get You...</td>\n",
       "      <td>8</td>\n",
       "      <td>1</td>\n",
       "    </tr>\n",
       "    <tr>\n",
       "      <th>3</th>\n",
       "      <td>Jessica Purkiss 15 Civilians Killed In Single ...</td>\n",
       "      <td>12</td>\n",
       "      <td>1</td>\n",
       "    </tr>\n",
       "    <tr>\n",
       "      <th>4</th>\n",
       "      <td>Howard Portnoy Iranian woman jailed for fictio...</td>\n",
       "      <td>16</td>\n",
       "      <td>1</td>\n",
       "    </tr>\n",
       "  </tbody>\n",
       "</table>\n",
       "</div>"
      ],
      "text/plain": [
       "                                         author_title  author_title_len  label\n",
       "id                                                                            \n",
       "0   Darrell Lucus House Dem Aide: We Didn’t Even S...                16      1\n",
       "1   Daniel J. Flynn FLYNN: Hillary Clinton, Big Wo...                12      0\n",
       "2   Consortiumnews.com Why the Truth Might Get You...                 8      1\n",
       "3   Jessica Purkiss 15 Civilians Killed In Single ...                12      1\n",
       "4   Howard Portnoy Iranian woman jailed for fictio...                16      1"
      ]
     },
     "execution_count": 16,
     "metadata": {},
     "output_type": "execute_result"
    }
   ],
   "source": [
    "#Dataset formatting:\n",
    "#train_df.drop(columns=['title','author'],inplace=True)\n",
    "train_df = train_df[[\"author_title\",\"author_title_len\",\"label\"]]\n",
    "train_df.head()"
   ]
  },
  {
   "cell_type": "markdown",
   "metadata": {},
   "source": [
    "# Check Class Imbalance"
   ]
  },
  {
   "cell_type": "code",
   "execution_count": 17,
   "metadata": {},
   "outputs": [
    {
     "data": {
      "text/plain": [
       "0    10387\n",
       "1     9855\n",
       "Name: label, dtype: int64"
      ]
     },
     "execution_count": 17,
     "metadata": {},
     "output_type": "execute_result"
    }
   ],
   "source": [
    "train_df['label'].value_counts()"
   ]
  },
  {
   "cell_type": "markdown",
   "metadata": {},
   "source": [
    "NO Class Imbalance found"
   ]
  },
  {
   "cell_type": "markdown",
   "metadata": {},
   "source": [
    "# NLP Pre-processing"
   ]
  },
  {
   "cell_type": "code",
   "execution_count": 18,
   "metadata": {},
   "outputs": [],
   "source": [
    "#Remove punctuation and stop words from author_title\n",
    "import string as st\n",
    "import nltk\n",
    "from nltk.corpus import stopwords\n",
    "from collections import Counter\n",
    "import re\n",
    "\n",
    "import pickle\n",
    "\n",
    "def remove_punct(text):\n",
    "    return (\"\".join([ch for ch in text if ch not in st.punctuation]))\n",
    "\n",
    "stop_words = stopwords.words('english')\n",
    "stopwords_dict = Counter(stop_words)\n",
    "    \n",
    "def remove_stopwords(text):\n",
    "    return [word for word in text.split() if word not in stopwords_dict]\n"
   ]
  },
  {
   "cell_type": "code",
   "execution_count": 19,
   "metadata": {},
   "outputs": [
    {
     "data": {
      "text/html": [
       "<div>\n",
       "<style scoped>\n",
       "    .dataframe tbody tr th:only-of-type {\n",
       "        vertical-align: middle;\n",
       "    }\n",
       "\n",
       "    .dataframe tbody tr th {\n",
       "        vertical-align: top;\n",
       "    }\n",
       "\n",
       "    .dataframe thead th {\n",
       "        text-align: right;\n",
       "    }\n",
       "</style>\n",
       "<table border=\"1\" class=\"dataframe\">\n",
       "  <thead>\n",
       "    <tr style=\"text-align: right;\">\n",
       "      <th></th>\n",
       "      <th>author_title</th>\n",
       "      <th>author_title_len</th>\n",
       "      <th>label</th>\n",
       "    </tr>\n",
       "    <tr>\n",
       "      <th>id</th>\n",
       "      <th></th>\n",
       "      <th></th>\n",
       "      <th></th>\n",
       "    </tr>\n",
       "  </thead>\n",
       "  <tbody>\n",
       "    <tr>\n",
       "      <th>0</th>\n",
       "      <td>darrell lucus house dem aide we didn’t even se...</td>\n",
       "      <td>16</td>\n",
       "      <td>1</td>\n",
       "    </tr>\n",
       "    <tr>\n",
       "      <th>1</th>\n",
       "      <td>daniel j flynn flynn hillary clinton big woman...</td>\n",
       "      <td>12</td>\n",
       "      <td>0</td>\n",
       "    </tr>\n",
       "    <tr>\n",
       "      <th>2</th>\n",
       "      <td>consortiumnewscom why the truth might get you ...</td>\n",
       "      <td>8</td>\n",
       "      <td>1</td>\n",
       "    </tr>\n",
       "    <tr>\n",
       "      <th>3</th>\n",
       "      <td>jessica purkiss 15 civilians killed in single ...</td>\n",
       "      <td>12</td>\n",
       "      <td>1</td>\n",
       "    </tr>\n",
       "    <tr>\n",
       "      <th>4</th>\n",
       "      <td>howard portnoy iranian woman jailed for fictio...</td>\n",
       "      <td>16</td>\n",
       "      <td>1</td>\n",
       "    </tr>\n",
       "  </tbody>\n",
       "</table>\n",
       "</div>"
      ],
      "text/plain": [
       "                                         author_title  author_title_len  label\n",
       "id                                                                            \n",
       "0   darrell lucus house dem aide we didn’t even se...                16      1\n",
       "1   daniel j flynn flynn hillary clinton big woman...                12      0\n",
       "2   consortiumnewscom why the truth might get you ...                 8      1\n",
       "3   jessica purkiss 15 civilians killed in single ...                12      1\n",
       "4   howard portnoy iranian woman jailed for fictio...                16      1"
      ]
     },
     "execution_count": 19,
     "metadata": {},
     "output_type": "execute_result"
    }
   ],
   "source": [
    "train_df['author_title'] = train_df['author_title'].apply(lambda x: remove_punct(x))\n",
    "train_df['author_title'] = train_df['author_title'].str.lower()\n",
    "train_df.head()"
   ]
  },
  {
   "cell_type": "code",
   "execution_count": 20,
   "metadata": {},
   "outputs": [
    {
     "data": {
      "text/html": [
       "<div>\n",
       "<style scoped>\n",
       "    .dataframe tbody tr th:only-of-type {\n",
       "        vertical-align: middle;\n",
       "    }\n",
       "\n",
       "    .dataframe tbody tr th {\n",
       "        vertical-align: top;\n",
       "    }\n",
       "\n",
       "    .dataframe thead th {\n",
       "        text-align: right;\n",
       "    }\n",
       "</style>\n",
       "<table border=\"1\" class=\"dataframe\">\n",
       "  <thead>\n",
       "    <tr style=\"text-align: right;\">\n",
       "      <th></th>\n",
       "      <th>author_title</th>\n",
       "      <th>author_title_len</th>\n",
       "      <th>label</th>\n",
       "      <th>author_title_rem</th>\n",
       "    </tr>\n",
       "    <tr>\n",
       "      <th>id</th>\n",
       "      <th></th>\n",
       "      <th></th>\n",
       "      <th></th>\n",
       "      <th></th>\n",
       "    </tr>\n",
       "  </thead>\n",
       "  <tbody>\n",
       "    <tr>\n",
       "      <th>0</th>\n",
       "      <td>darrell lucus house dem aide we didn’t even se...</td>\n",
       "      <td>16</td>\n",
       "      <td>1</td>\n",
       "      <td>[darrell, lucus, house, dem, aide, didn’t, eve...</td>\n",
       "    </tr>\n",
       "    <tr>\n",
       "      <th>1</th>\n",
       "      <td>daniel j flynn flynn hillary clinton big woman...</td>\n",
       "      <td>12</td>\n",
       "      <td>0</td>\n",
       "      <td>[daniel, j, flynn, flynn, hillary, clinton, bi...</td>\n",
       "    </tr>\n",
       "    <tr>\n",
       "      <th>2</th>\n",
       "      <td>consortiumnewscom why the truth might get you ...</td>\n",
       "      <td>8</td>\n",
       "      <td>1</td>\n",
       "      <td>[consortiumnewscom, truth, might, get, fired]</td>\n",
       "    </tr>\n",
       "    <tr>\n",
       "      <th>3</th>\n",
       "      <td>jessica purkiss 15 civilians killed in single ...</td>\n",
       "      <td>12</td>\n",
       "      <td>1</td>\n",
       "      <td>[jessica, purkiss, 15, civilians, killed, sing...</td>\n",
       "    </tr>\n",
       "    <tr>\n",
       "      <th>4</th>\n",
       "      <td>howard portnoy iranian woman jailed for fictio...</td>\n",
       "      <td>16</td>\n",
       "      <td>1</td>\n",
       "      <td>[howard, portnoy, iranian, woman, jailed, fict...</td>\n",
       "    </tr>\n",
       "  </tbody>\n",
       "</table>\n",
       "</div>"
      ],
      "text/plain": [
       "                                         author_title  author_title_len  \\\n",
       "id                                                                        \n",
       "0   darrell lucus house dem aide we didn’t even se...                16   \n",
       "1   daniel j flynn flynn hillary clinton big woman...                12   \n",
       "2   consortiumnewscom why the truth might get you ...                 8   \n",
       "3   jessica purkiss 15 civilians killed in single ...                12   \n",
       "4   howard portnoy iranian woman jailed for fictio...                16   \n",
       "\n",
       "    label                                   author_title_rem  \n",
       "id                                                            \n",
       "0       1  [darrell, lucus, house, dem, aide, didn’t, eve...  \n",
       "1       0  [daniel, j, flynn, flynn, hillary, clinton, bi...  \n",
       "2       1      [consortiumnewscom, truth, might, get, fired]  \n",
       "3       1  [jessica, purkiss, 15, civilians, killed, sing...  \n",
       "4       1  [howard, portnoy, iranian, woman, jailed, fict...  "
      ]
     },
     "execution_count": 20,
     "metadata": {},
     "output_type": "execute_result"
    }
   ],
   "source": [
    "train_df['author_title_rem'] = train_df['author_title'].apply(lambda x : remove_stopwords(x))\n",
    "train_df.head()"
   ]
  },
  {
   "cell_type": "code",
   "execution_count": 21,
   "metadata": {},
   "outputs": [
    {
     "data": {
      "text/html": [
       "<div>\n",
       "<style scoped>\n",
       "    .dataframe tbody tr th:only-of-type {\n",
       "        vertical-align: middle;\n",
       "    }\n",
       "\n",
       "    .dataframe tbody tr th {\n",
       "        vertical-align: top;\n",
       "    }\n",
       "\n",
       "    .dataframe thead th {\n",
       "        text-align: right;\n",
       "    }\n",
       "</style>\n",
       "<table border=\"1\" class=\"dataframe\">\n",
       "  <thead>\n",
       "    <tr style=\"text-align: right;\">\n",
       "      <th></th>\n",
       "      <th>author_title</th>\n",
       "      <th>author_title_len</th>\n",
       "      <th>label</th>\n",
       "      <th>author_title_rem</th>\n",
       "      <th>author_title_rem_len</th>\n",
       "    </tr>\n",
       "    <tr>\n",
       "      <th>id</th>\n",
       "      <th></th>\n",
       "      <th></th>\n",
       "      <th></th>\n",
       "      <th></th>\n",
       "      <th></th>\n",
       "    </tr>\n",
       "  </thead>\n",
       "  <tbody>\n",
       "    <tr>\n",
       "      <th>0</th>\n",
       "      <td>darrell lucus house dem aide we didn’t even se...</td>\n",
       "      <td>16</td>\n",
       "      <td>1</td>\n",
       "      <td>[darrell, lucus, house, dem, aide, didn’t, eve...</td>\n",
       "      <td>13</td>\n",
       "    </tr>\n",
       "    <tr>\n",
       "      <th>1</th>\n",
       "      <td>daniel j flynn flynn hillary clinton big woman...</td>\n",
       "      <td>12</td>\n",
       "      <td>0</td>\n",
       "      <td>[daniel, j, flynn, flynn, hillary, clinton, bi...</td>\n",
       "      <td>10</td>\n",
       "    </tr>\n",
       "    <tr>\n",
       "      <th>2</th>\n",
       "      <td>consortiumnewscom why the truth might get you ...</td>\n",
       "      <td>8</td>\n",
       "      <td>1</td>\n",
       "      <td>[consortiumnewscom, truth, might, get, fired]</td>\n",
       "      <td>5</td>\n",
       "    </tr>\n",
       "    <tr>\n",
       "      <th>3</th>\n",
       "      <td>jessica purkiss 15 civilians killed in single ...</td>\n",
       "      <td>12</td>\n",
       "      <td>1</td>\n",
       "      <td>[jessica, purkiss, 15, civilians, killed, sing...</td>\n",
       "      <td>9</td>\n",
       "    </tr>\n",
       "    <tr>\n",
       "      <th>4</th>\n",
       "      <td>howard portnoy iranian woman jailed for fictio...</td>\n",
       "      <td>16</td>\n",
       "      <td>1</td>\n",
       "      <td>[howard, portnoy, iranian, woman, jailed, fict...</td>\n",
       "      <td>12</td>\n",
       "    </tr>\n",
       "  </tbody>\n",
       "</table>\n",
       "</div>"
      ],
      "text/plain": [
       "                                         author_title  author_title_len  \\\n",
       "id                                                                        \n",
       "0   darrell lucus house dem aide we didn’t even se...                16   \n",
       "1   daniel j flynn flynn hillary clinton big woman...                12   \n",
       "2   consortiumnewscom why the truth might get you ...                 8   \n",
       "3   jessica purkiss 15 civilians killed in single ...                12   \n",
       "4   howard portnoy iranian woman jailed for fictio...                16   \n",
       "\n",
       "    label                                   author_title_rem  \\\n",
       "id                                                             \n",
       "0       1  [darrell, lucus, house, dem, aide, didn’t, eve...   \n",
       "1       0  [daniel, j, flynn, flynn, hillary, clinton, bi...   \n",
       "2       1      [consortiumnewscom, truth, might, get, fired]   \n",
       "3       1  [jessica, purkiss, 15, civilians, killed, sing...   \n",
       "4       1  [howard, portnoy, iranian, woman, jailed, fict...   \n",
       "\n",
       "    author_title_rem_len  \n",
       "id                        \n",
       "0                     13  \n",
       "1                     10  \n",
       "2                      5  \n",
       "3                      9  \n",
       "4                     12  "
      ]
     },
     "execution_count": 21,
     "metadata": {},
     "output_type": "execute_result"
    }
   ],
   "source": [
    "train_df['author_title_rem_len'] = train_df['author_title_rem'].apply(len)\n",
    "train_df.head()"
   ]
  },
  {
   "cell_type": "code",
   "execution_count": 22,
   "metadata": {},
   "outputs": [
    {
     "data": {
      "image/png": "[encoded data removed]",
      "text/plain": [
       "<Figure size 720x360 with 1 Axes>"
      ]
     },
     "metadata": {
      "needs_background": "light"
     },
     "output_type": "display_data"
    }
   ],
   "source": [
    "train_df.plot(y='author_title_rem_len')\n",
    "plt.title(\"Length of words in the dataset\")\n",
    "plt.show()"
   ]
  },
  {
   "cell_type": "markdown",
   "metadata": {},
   "source": [
    "Average length of words dropped to 10"
   ]
  },
  {
   "cell_type": "code",
   "execution_count": 23,
   "metadata": {},
   "outputs": [
    {
     "data": {
      "text/html": [
       "<div>\n",
       "<style scoped>\n",
       "    .dataframe tbody tr th:only-of-type {\n",
       "        vertical-align: middle;\n",
       "    }\n",
       "\n",
       "    .dataframe tbody tr th {\n",
       "        vertical-align: top;\n",
       "    }\n",
       "\n",
       "    .dataframe thead th {\n",
       "        text-align: right;\n",
       "    }\n",
       "</style>\n",
       "<table border=\"1\" class=\"dataframe\">\n",
       "  <thead>\n",
       "    <tr style=\"text-align: right;\">\n",
       "      <th></th>\n",
       "      <th>author_title</th>\n",
       "      <th>author_title_len</th>\n",
       "      <th>label</th>\n",
       "      <th>author_title_rem</th>\n",
       "      <th>author_title_rem_len</th>\n",
       "      <th>author_title_clean</th>\n",
       "    </tr>\n",
       "    <tr>\n",
       "      <th>id</th>\n",
       "      <th></th>\n",
       "      <th></th>\n",
       "      <th></th>\n",
       "      <th></th>\n",
       "      <th></th>\n",
       "      <th></th>\n",
       "    </tr>\n",
       "  </thead>\n",
       "  <tbody>\n",
       "    <tr>\n",
       "      <th>0</th>\n",
       "      <td>darrell lucus house dem aide we didn’t even se...</td>\n",
       "      <td>16</td>\n",
       "      <td>1</td>\n",
       "      <td>[darrell, lucus, house, dem, aide, didn’t, eve...</td>\n",
       "      <td>13</td>\n",
       "      <td>darrell lucus house dem aide didn’t even see c...</td>\n",
       "    </tr>\n",
       "    <tr>\n",
       "      <th>1</th>\n",
       "      <td>daniel j flynn flynn hillary clinton big woman...</td>\n",
       "      <td>12</td>\n",
       "      <td>0</td>\n",
       "      <td>[daniel, j, flynn, flynn, hillary, clinton, bi...</td>\n",
       "      <td>10</td>\n",
       "      <td>daniel j flynn flynn hillary clinton big woman...</td>\n",
       "    </tr>\n",
       "    <tr>\n",
       "      <th>2</th>\n",
       "      <td>consortiumnewscom why the truth might get you ...</td>\n",
       "      <td>8</td>\n",
       "      <td>1</td>\n",
       "      <td>[consortiumnewscom, truth, might, get, fired]</td>\n",
       "      <td>5</td>\n",
       "      <td>consortiumnewscom truth might get fired</td>\n",
       "    </tr>\n",
       "    <tr>\n",
       "      <th>3</th>\n",
       "      <td>jessica purkiss 15 civilians killed in single ...</td>\n",
       "      <td>12</td>\n",
       "      <td>1</td>\n",
       "      <td>[jessica, purkiss, 15, civilians, killed, sing...</td>\n",
       "      <td>9</td>\n",
       "      <td>jessica purkiss 15 civilians killed single us ...</td>\n",
       "    </tr>\n",
       "    <tr>\n",
       "      <th>4</th>\n",
       "      <td>howard portnoy iranian woman jailed for fictio...</td>\n",
       "      <td>16</td>\n",
       "      <td>1</td>\n",
       "      <td>[howard, portnoy, iranian, woman, jailed, fict...</td>\n",
       "      <td>12</td>\n",
       "      <td>howard portnoy iranian woman jailed fictional ...</td>\n",
       "    </tr>\n",
       "  </tbody>\n",
       "</table>\n",
       "</div>"
      ],
      "text/plain": [
       "                                         author_title  author_title_len  \\\n",
       "id                                                                        \n",
       "0   darrell lucus house dem aide we didn’t even se...                16   \n",
       "1   daniel j flynn flynn hillary clinton big woman...                12   \n",
       "2   consortiumnewscom why the truth might get you ...                 8   \n",
       "3   jessica purkiss 15 civilians killed in single ...                12   \n",
       "4   howard portnoy iranian woman jailed for fictio...                16   \n",
       "\n",
       "    label                                   author_title_rem  \\\n",
       "id                                                             \n",
       "0       1  [darrell, lucus, house, dem, aide, didn’t, eve...   \n",
       "1       0  [daniel, j, flynn, flynn, hillary, clinton, bi...   \n",
       "2       1      [consortiumnewscom, truth, might, get, fired]   \n",
       "3       1  [jessica, purkiss, 15, civilians, killed, sing...   \n",
       "4       1  [howard, portnoy, iranian, woman, jailed, fict...   \n",
       "\n",
       "    author_title_rem_len                                 author_title_clean  \n",
       "id                                                                           \n",
       "0                     13  darrell lucus house dem aide didn’t even see c...  \n",
       "1                     10  daniel j flynn flynn hillary clinton big woman...  \n",
       "2                      5            consortiumnewscom truth might get fired  \n",
       "3                      9  jessica purkiss 15 civilians killed single us ...  \n",
       "4                     12  howard portnoy iranian woman jailed fictional ...  "
      ]
     },
     "execution_count": 23,
     "metadata": {},
     "output_type": "execute_result"
    }
   ],
   "source": [
    "train_df['author_title_clean'] = train_df['author_title_rem'].apply(lambda x : ' '.join([str(word) for word in x]))\n",
    "train_df.head()"
   ]
  },
  {
   "cell_type": "code",
   "execution_count": 24,
   "metadata": {},
   "outputs": [],
   "source": [
    "# Dividing the training set by using train_test_split\n",
    "X_train, X_val, y_train, y_val = train_test_split(train_df['author_title_clean'], train_df.label, test_size=0.20, \n",
    "                                                    random_state=0)"
   ]
  },
  {
   "cell_type": "code",
   "execution_count": 25,
   "metadata": {},
   "outputs": [
    {
     "name": "stdout",
     "output_type": "stream",
     "text": [
      "(16193,) (4049,)\n",
      "(16193,) (4049,)\n"
     ]
    }
   ],
   "source": [
    "print(X_train.shape,X_val.shape)\n",
    "print(y_train.shape,y_val.shape)"
   ]
  },
  {
   "cell_type": "markdown",
   "metadata": {},
   "source": [
    "# Vectorization"
   ]
  },
  {
   "cell_type": "code",
   "execution_count": 26,
   "metadata": {},
   "outputs": [],
   "source": [
    "# Initialize the `count_vectorizer` \n",
    "#count_vectorizer = CountVectorizer(ngram_range=(1, 2), stop_words='english') \n",
    "count_vectorizer = CountVectorizer(ngram_range=(1, 2)) \n",
    "# Fit and transform the training data.\n",
    "count_train = count_vectorizer.fit_transform(X_train)\n",
    "# Transform the val set \n",
    "count_val = count_vectorizer.transform(X_val)"
   ]
  },
  {
   "cell_type": "code",
   "execution_count": 27,
   "metadata": {},
   "outputs": [],
   "source": [
    "#Initialize the `tfidf_vectorizer` \n",
    "#tfidf_vectorizer = TfidfVectorizer(stop_words='english', ngram_range=(1, 2))\n",
    "tfidf_vectorizer = TfidfVectorizer(ngram_range=(1, 2))\n",
    "#Fit and transform the training data \n",
    "tfidf_train = tfidf_vectorizer.fit_transform(X_train)\n",
    "#Transform the test set \n",
    "tfidf_val = tfidf_vectorizer.transform(X_val)"
   ]
  },
  {
   "cell_type": "code",
   "execution_count": 65,
   "metadata": {},
   "outputs": [],
   "source": [
    "# save the vectorizer to disk\n",
    "pickle.dump(count_vectorizer, open('count_vectorizer.pkl', 'wb'))\n",
    "\n",
    "pickle.dump(tfidf_vectorizer, open('tfidf_vectorizer.pkl', 'wb'))"
   ]
  },
  {
   "cell_type": "markdown",
   "metadata": {},
   "source": [
    "# Plot Confusion matrix"
   ]
  },
  {
   "cell_type": "code",
   "execution_count": 29,
   "metadata": {},
   "outputs": [],
   "source": [
    "# Creating a function that outputs a confusion matrix\n",
    "def plot_confusion_matrix(cm, classes,\n",
    "                          normalize=False,\n",
    "                          title='Confusion matrix',\n",
    "                          cmap=plt.cm.Greens):\n",
    "    \n",
    "    plt.imshow(cm, interpolation='nearest', cmap=cmap)\n",
    "    plt.title(title)\n",
    "    plt.colorbar()\n",
    "    tick_marks = np.arange(len(classes))\n",
    "    plt.xticks(tick_marks, classes, rotation=45)\n",
    "    plt.yticks(tick_marks, classes)\n",
    "    thresh = cm.max() / 2.\n",
    "    for i, j in itertools.product(range(cm.shape[0]), range(cm.shape[1])):\n",
    "        plt.text(j, i, cm[i, j],\n",
    "                 horizontalalignment=\"center\",\n",
    "                 color=\"white\" if cm[i, j] > thresh else \"black\")\n",
    "\n",
    "    plt.tight_layout()\n",
    "    plt.ylabel('True label')\n",
    "    plt.xlabel('Predicted label')"
   ]
  },
  {
   "cell_type": "markdown",
   "metadata": {},
   "source": [
    "# Multinomial Naive Bayes Classifier - with CountVectorizer and TF-IDF"
   ]
  },
  {
   "cell_type": "code",
   "execution_count": 30,
   "metadata": {},
   "outputs": [],
   "source": [
    "def tune_MNB(train,val,y_train,y_val):\n",
    "    nbclassifier_alpha = 0.0\n",
    "    nbclassifier_score = 0.0\n",
    "    for alpha in np.arange(0,.1,.01):\n",
    "        nb_classifier_tune = MultinomialNB(alpha=alpha)\n",
    "        nb_classifier_tune.fit(train, y_train)\n",
    "        pred_tune = nb_classifier_tune.predict(val)\n",
    "        score = metrics.accuracy_score(y_val, pred_tune)\n",
    "        print(\"Alpha: {:.2f} Score: {:.5f}\".format(alpha, score))\n",
    "        if float(score) >= float(nbclassifier_score):\n",
    "            nbclassifier_alpha = alpha\n",
    "            nbclassifier_score = score\n",
    "    return nbclassifier_alpha,nbclassifier_score"
   ]
  },
  {
   "cell_type": "code",
   "execution_count": 31,
   "metadata": {},
   "outputs": [
    {
     "name": "stderr",
     "output_type": "stream",
     "text": [
      "C:\\Users\\anarayan\\Anaconda3\\lib\\site-packages\\sklearn\\naive_bayes.py:509: UserWarning: alpha too small will result in numeric errors, setting alpha = 1.0e-10\n",
      "  'setting alpha = %.1e' % _ALPHA_MIN)\n"
     ]
    },
    {
     "name": "stdout",
     "output_type": "stream",
     "text": [
      "Alpha: 0.00 Score: 0.95159\n",
      "Alpha: 0.01 Score: 0.96468\n",
      "Alpha: 0.02 Score: 0.96691\n",
      "Alpha: 0.03 Score: 0.96814\n",
      "Alpha: 0.04 Score: 0.96789\n",
      "Alpha: 0.05 Score: 0.96888\n",
      "Alpha: 0.06 Score: 0.96962\n",
      "Alpha: 0.07 Score: 0.96962\n",
      "Alpha: 0.08 Score: 0.96962\n",
      "Alpha: 0.09 Score: 0.97012\n",
      "Best Score : 0.97\n",
      "Best Alpha : 0.09\n"
     ]
    }
   ],
   "source": [
    "#hyperparameter tuning MNBClassifier with Count Vectorizer \n",
    "nbclassifier_count_alpha,nbclassifier_count_score = tune_MNB(count_train,count_val,y_train,y_val)\n",
    "print(\"Best Score :\", nbclassifier_count_score.round(2))        \n",
    "print(\"Best Alpha :\", nbclassifier_count_alpha.round(2))"
   ]
  },
  {
   "cell_type": "code",
   "execution_count": 32,
   "metadata": {},
   "outputs": [
    {
     "name": "stdout",
     "output_type": "stream",
     "text": [
      "Alpha: 0.00 Score: 0.93332\n",
      "Alpha: 0.01 Score: 0.95530\n",
      "Alpha: 0.02 Score: 0.95703\n",
      "Alpha: 0.03 Score: 0.95752\n",
      "Alpha: 0.04 Score: 0.95999\n",
      "Alpha: 0.05 Score: 0.96048\n",
      "Alpha: 0.06 Score: 0.96024\n",
      "Alpha: 0.07 Score: 0.96073\n",
      "Alpha: 0.08 Score: 0.96098\n",
      "Alpha: 0.09 Score: 0.96098\n",
      "Best Score : 0.96\n",
      "Best Alpha : 0.09\n"
     ]
    },
    {
     "name": "stderr",
     "output_type": "stream",
     "text": [
      "C:\\Users\\anarayan\\Anaconda3\\lib\\site-packages\\sklearn\\naive_bayes.py:509: UserWarning: alpha too small will result in numeric errors, setting alpha = 1.0e-10\n",
      "  'setting alpha = %.1e' % _ALPHA_MIN)\n"
     ]
    }
   ],
   "source": [
    "#hyperparameter tuning MNBClassifier with TFIDF Vectorizer \n",
    "nbclassifier_tfidf_alpha,nbclassifier_tfidf_score = tune_MNB(tfidf_train,tfidf_val,y_train,y_val)\n",
    "print(\"Best Score :\", nbclassifier_tfidf_score.round(2))        \n",
    "print(\"Best Alpha :\", nbclassifier_tfidf_alpha.round(2))"
   ]
  },
  {
   "cell_type": "code",
   "execution_count": 33,
   "metadata": {},
   "outputs": [],
   "source": [
    "def use_best_alpha(alpha,train,y_train,val,y_val,title):\n",
    "    nb_classifier = MultinomialNB(alpha = alpha.round(2))\n",
    "    nb_classifier.fit(train, y_train)\n",
    "    pred_nb = nb_classifier.predict(val)\n",
    "    acc_nb = metrics.accuracy_score(y_val, pred_nb)\n",
    "    print(\"Accuracy - MNB :\",acc_nb)\n",
    "    cm = metrics.confusion_matrix(y_val, pred_nb, labels=[0,1])\n",
    "    plot_confusion_matrix(cm, classes=['TRUE','FALSE'], title = title)\n",
    "    return nb_classifier,pred_nb,acc_nb"
   ]
  },
  {
   "cell_type": "code",
   "execution_count": 34,
   "metadata": {},
   "outputs": [
    {
     "name": "stdout",
     "output_type": "stream",
     "text": [
      "Accuracy - MNB : 0.9701160780439615\n"
     ]
    },
    {
     "data": {
      "image/png": "[encoded data removed]",
      "text/plain": [
       "<Figure size 720x360 with 2 Axes>"
      ]
     },
     "metadata": {
      "needs_background": "light"
     },
     "output_type": "display_data"
    }
   ],
   "source": [
    "# optimized model with best alpha score - MNBClassifier with CountVectorizer\n",
    "nb_classifier_count, pred_nb_count,acc_nb_count = use_best_alpha(nbclassifier_count_alpha,count_train,y_train,count_val,y_val,'Confusion matrix for a MultinomialNB with Count Vectorizer')"
   ]
  },
  {
   "cell_type": "code",
   "execution_count": 35,
   "metadata": {},
   "outputs": [
    {
     "name": "stdout",
     "output_type": "stream",
     "text": [
      "Accuracy - MNB : 0.9609780192640158\n"
     ]
    },
    {
     "data": {
      "image/png": "[encoded data removed]",
      "text/plain": [
       "<Figure size 720x360 with 2 Axes>"
      ]
     },
     "metadata": {
      "needs_background": "light"
     },
     "output_type": "display_data"
    }
   ],
   "source": [
    "# optimized model with best alpha score - MNBClassifier with TFIDF Vectorizer\n",
    "nb_classifier_tfidf,pred_nb_tfidf,acc_nb_tfidf = use_best_alpha(nbclassifier_tfidf_alpha,tfidf_train,y_train,tfidf_val,y_val,'Confusion matrix for a MultinomialNB with TFIDF Vectorizer')"
   ]
  },
  {
   "cell_type": "markdown",
   "metadata": {},
   "source": [
    "# Logistic Regression - with CountVectorizer and TF-IDF"
   ]
  },
  {
   "cell_type": "code",
   "execution_count": 36,
   "metadata": {},
   "outputs": [],
   "source": [
    "def logistic_reg(train,val,y_train,y_val,title):\n",
    "    logreg = LogisticRegression(C=1e5)\n",
    "    logreg.fit(train, y_train)\n",
    "    pred_logreg = logreg.predict(val)\n",
    "    acc_logreg = metrics.accuracy_score(y_val,pred_logreg)\n",
    "    print(\"Accuracy - LR with CountVectorizer :\",acc_logreg)\n",
    "    cm = metrics.confusion_matrix(y_val, pred_logreg, labels=[0,1])\n",
    "    plot_confusion_matrix(cm, classes=['TRUE','FALSE'], title=title)\n",
    "    return logreg,pred_logreg,acc_logreg"
   ]
  },
  {
   "cell_type": "code",
   "execution_count": 37,
   "metadata": {},
   "outputs": [
    {
     "name": "stdout",
     "output_type": "stream",
     "text": [
      "Accuracy - LR with CountVectorizer : 0.9916028649049148\n"
     ]
    },
    {
     "data": {
      "image/png": "[encoded data removed]",
      "text/plain": [
       "<Figure size 720x360 with 2 Axes>"
      ]
     },
     "metadata": {
      "needs_background": "light"
     },
     "output_type": "display_data"
    }
   ],
   "source": [
    "#Logistic Regression with Count Vectorizer\n",
    "logreg_count,pred_logreg_count,acc_logreg_count = logistic_reg(count_train,count_val,y_train,y_val,\n",
    "                                                  'Confusion matrix for a Logistic Regression with Count Vectorizer')"
   ]
  },
  {
   "cell_type": "code",
   "execution_count": 38,
   "metadata": {},
   "outputs": [
    {
     "name": "stderr",
     "output_type": "stream",
     "text": [
      "C:\\Users\\anarayan\\Anaconda3\\lib\\site-packages\\sklearn\\linear_model\\_logistic.py:765: ConvergenceWarning: lbfgs failed to converge (status=1):\n",
      "STOP: TOTAL NO. of ITERATIONS REACHED LIMIT.\n",
      "\n",
      "Increase the number of iterations (max_iter) or scale the data as shown in:\n",
      "    https://scikit-learn.org/stable/modules/preprocessing.html\n",
      "Please also refer to the documentation for alternative solver options:\n",
      "    https://scikit-learn.org/stable/modules/linear_model.html#logistic-regression\n",
      "  extra_warning_msg=_LOGISTIC_SOLVER_CONVERGENCE_MSG)\n"
     ]
    },
    {
     "name": "stdout",
     "output_type": "stream",
     "text": [
      "Accuracy - LR with CountVectorizer : 0.9962953815756977\n"
     ]
    },
    {
     "data": {
      "image/png": "[encoded data removed]",
      "text/plain": [
       "<Figure size 720x360 with 2 Axes>"
      ]
     },
     "metadata": {
      "needs_background": "light"
     },
     "output_type": "display_data"
    }
   ],
   "source": [
    "#Logistic Regression with TF-IDF Vectorizer\n",
    "logreg_tfidf,pred_logreg_tfidf,acc_logreg_tfidf = logistic_reg(tfidf_train,tfidf_val,y_train,y_val,\n",
    "                                                  'Confusion matrix for a Logistic Regression with TFIDF Vectorizer')"
   ]
  },
  {
   "cell_type": "markdown",
   "metadata": {},
   "source": [
    "# Processing and Testing - X_test file"
   ]
  },
  {
   "cell_type": "code",
   "execution_count": 39,
   "metadata": {},
   "outputs": [
    {
     "data": {
      "text/html": [
       "<div>\n",
       "<style scoped>\n",
       "    .dataframe tbody tr th:only-of-type {\n",
       "        vertical-align: middle;\n",
       "    }\n",
       "\n",
       "    .dataframe tbody tr th {\n",
       "        vertical-align: top;\n",
       "    }\n",
       "\n",
       "    .dataframe thead th {\n",
       "        text-align: right;\n",
       "    }\n",
       "</style>\n",
       "<table border=\"1\" class=\"dataframe\">\n",
       "  <thead>\n",
       "    <tr style=\"text-align: right;\">\n",
       "      <th></th>\n",
       "      <th>title</th>\n",
       "      <th>author</th>\n",
       "      <th>text</th>\n",
       "    </tr>\n",
       "    <tr>\n",
       "      <th>id</th>\n",
       "      <th></th>\n",
       "      <th></th>\n",
       "      <th></th>\n",
       "    </tr>\n",
       "  </thead>\n",
       "  <tbody>\n",
       "    <tr>\n",
       "      <th>20800</th>\n",
       "      <td>Specter of Trump Loosens Tongues, if Not Purse...</td>\n",
       "      <td>David Streitfeld</td>\n",
       "      <td>PALO ALTO, Calif.  —   After years of scorning...</td>\n",
       "    </tr>\n",
       "    <tr>\n",
       "      <th>20801</th>\n",
       "      <td>Russian warships ready to strike terrorists ne...</td>\n",
       "      <td>NaN</td>\n",
       "      <td>Russian warships ready to strike terrorists ne...</td>\n",
       "    </tr>\n",
       "    <tr>\n",
       "      <th>20802</th>\n",
       "      <td>#NoDAPL: Native American Leaders Vow to Stay A...</td>\n",
       "      <td>Common Dreams</td>\n",
       "      <td>Videos #NoDAPL: Native American Leaders Vow to...</td>\n",
       "    </tr>\n",
       "    <tr>\n",
       "      <th>20803</th>\n",
       "      <td>Tim Tebow Will Attempt Another Comeback, This ...</td>\n",
       "      <td>Daniel Victor</td>\n",
       "      <td>If at first you don’t succeed, try a different...</td>\n",
       "    </tr>\n",
       "    <tr>\n",
       "      <th>20804</th>\n",
       "      <td>Keiser Report: Meme Wars (E995)</td>\n",
       "      <td>Truth Broadcast Network</td>\n",
       "      <td>42 mins ago 1 Views 0 Comments 0 Likes 'For th...</td>\n",
       "    </tr>\n",
       "  </tbody>\n",
       "</table>\n",
       "</div>"
      ],
      "text/plain": [
       "                                                   title  \\\n",
       "id                                                         \n",
       "20800  Specter of Trump Loosens Tongues, if Not Purse...   \n",
       "20801  Russian warships ready to strike terrorists ne...   \n",
       "20802  #NoDAPL: Native American Leaders Vow to Stay A...   \n",
       "20803  Tim Tebow Will Attempt Another Comeback, This ...   \n",
       "20804                    Keiser Report: Meme Wars (E995)   \n",
       "\n",
       "                        author  \\\n",
       "id                               \n",
       "20800         David Streitfeld   \n",
       "20801                      NaN   \n",
       "20802            Common Dreams   \n",
       "20803            Daniel Victor   \n",
       "20804  Truth Broadcast Network   \n",
       "\n",
       "                                                    text  \n",
       "id                                                        \n",
       "20800  PALO ALTO, Calif.  —   After years of scorning...  \n",
       "20801  Russian warships ready to strike terrorists ne...  \n",
       "20802  Videos #NoDAPL: Native American Leaders Vow to...  \n",
       "20803  If at first you don’t succeed, try a different...  \n",
       "20804  42 mins ago 1 Views 0 Comments 0 Likes 'For th...  "
      ]
     },
     "execution_count": 39,
     "metadata": {},
     "output_type": "execute_result"
    }
   ],
   "source": [
    "test_df = pd.read_csv('./Fake_news_data/test.csv',index_col='id')\n",
    "test_df.head()"
   ]
  },
  {
   "cell_type": "code",
   "execution_count": 40,
   "metadata": {},
   "outputs": [
    {
     "data": {
      "text/html": [
       "<div>\n",
       "<style scoped>\n",
       "    .dataframe tbody tr th:only-of-type {\n",
       "        vertical-align: middle;\n",
       "    }\n",
       "\n",
       "    .dataframe tbody tr th {\n",
       "        vertical-align: top;\n",
       "    }\n",
       "\n",
       "    .dataframe thead th {\n",
       "        text-align: right;\n",
       "    }\n",
       "</style>\n",
       "<table border=\"1\" class=\"dataframe\">\n",
       "  <thead>\n",
       "    <tr style=\"text-align: right;\">\n",
       "      <th></th>\n",
       "      <th>author_title_clean</th>\n",
       "    </tr>\n",
       "    <tr>\n",
       "      <th>id</th>\n",
       "      <th></th>\n",
       "    </tr>\n",
       "  </thead>\n",
       "  <tbody>\n",
       "    <tr>\n",
       "      <th>20800</th>\n",
       "      <td>david streitfeld specter trump loosens tongues...</td>\n",
       "    </tr>\n",
       "    <tr>\n",
       "      <th>20801</th>\n",
       "      <td>russian warships ready strike terrorists near ...</td>\n",
       "    </tr>\n",
       "    <tr>\n",
       "      <th>20802</th>\n",
       "      <td>common dreams nodapl native american leaders v...</td>\n",
       "    </tr>\n",
       "    <tr>\n",
       "      <th>20803</th>\n",
       "      <td>daniel victor tim tebow attempt another comeba...</td>\n",
       "    </tr>\n",
       "    <tr>\n",
       "      <th>20804</th>\n",
       "      <td>truth broadcast network keiser report meme war...</td>\n",
       "    </tr>\n",
       "  </tbody>\n",
       "</table>\n",
       "</div>"
      ],
      "text/plain": [
       "                                      author_title_clean\n",
       "id                                                      \n",
       "20800  david streitfeld specter trump loosens tongues...\n",
       "20801  russian warships ready strike terrorists near ...\n",
       "20802  common dreams nodapl native american leaders v...\n",
       "20803  daniel victor tim tebow attempt another comeba...\n",
       "20804  truth broadcast network keiser report meme war..."
      ]
     },
     "execution_count": 40,
     "metadata": {},
     "output_type": "execute_result"
    }
   ],
   "source": [
    "#Preproces the test data similar to Train data\n",
    "def process_df(test_df):\n",
    "    test_df.fillna(' ',inplace=True)\n",
    "    test_df['author_title'] = test_df['author'] + ' ' + test_df['title']\n",
    "    test_df['author_title'] = test_df['author_title'].apply(lambda x: remove_punct(x))\n",
    "    test_df['author_title'] = test_df['author_title'].str.lower()\n",
    "    test_df['author_title'] = test_df['author_title'].apply(lambda x : remove_stopwords(x))\n",
    "    test_df['author_title_clean'] = test_df['author_title'].apply(lambda x : ' '.join([str(word) for word in x]))\n",
    "    df = test_df[['author_title_clean']]\n",
    "    return df\n",
    "df = process_df(test_df)\n",
    "df.head()"
   ]
  },
  {
   "cell_type": "code",
   "execution_count": 41,
   "metadata": {},
   "outputs": [
    {
     "name": "stdout",
     "output_type": "stream",
     "text": [
      "(5200,)\n"
     ]
    },
    {
     "data": {
      "text/plain": [
       "id\n",
       "20800    david streitfeld specter trump loosens tongues...\n",
       "20801    russian warships ready strike terrorists near ...\n",
       "20802    common dreams nodapl native american leaders v...\n",
       "20803    daniel victor tim tebow attempt another comeba...\n",
       "20804    truth broadcast network keiser report meme war...\n",
       "                               ...                        \n",
       "25995    jody rosen bangladeshi traffic jam never ends ...\n",
       "25996    sheryl gay stolberg john kasich signs one abor...\n",
       "25997    mike mcphate california today exactly sushi ne...\n",
       "25998        300 us marines deployed russian border norway\n",
       "25999      teddy wayne awkward sex onscreen new york times\n",
       "Name: author_title_clean, Length: 5200, dtype: object"
      ]
     },
     "execution_count": 41,
     "metadata": {},
     "output_type": "execute_result"
    }
   ],
   "source": [
    "X_test = df.squeeze()\n",
    "print(X_test.shape)\n",
    "X_test"
   ]
  },
  {
   "cell_type": "code",
   "execution_count": 68,
   "metadata": {},
   "outputs": [],
   "source": [
    "tfidf_vector = pickle.load(open(\"tfidf_vectorizer.pkl\",\"rb\"))\n",
    "count_vector = pickle.load(open(\"count_vectorizer.pkl\",\"rb\"))"
   ]
  },
  {
   "cell_type": "code",
   "execution_count": 69,
   "metadata": {},
   "outputs": [],
   "source": [
    "#tfidf_test = tfidf_vectorizer.transform(X_test)\n",
    "tfidf_test = tfidf_vector.transform(X_test)\n",
    "#count_test = count_vectorizer.transform(X_test)\n",
    "count_test = count_vector.transform(X_test)"
   ]
  },
  {
   "cell_type": "markdown",
   "metadata": {},
   "source": [
    "# Applying different algorithms on Test file"
   ]
  },
  {
   "cell_type": "code",
   "execution_count": 70,
   "metadata": {},
   "outputs": [
    {
     "name": "stdout",
     "output_type": "stream",
     "text": [
      "(array([0, 1], dtype=int64), array([2615, 2585], dtype=int64))\n"
     ]
    }
   ],
   "source": [
    "X_pred_logreg_tfidf = logreg_tfidf.predict(tfidf_test)\n",
    "print(np.unique(X_pred_logreg_tfidf,return_counts=True))"
   ]
  },
  {
   "cell_type": "code",
   "execution_count": 71,
   "metadata": {},
   "outputs": [
    {
     "name": "stdout",
     "output_type": "stream",
     "text": [
      "(array([0, 1], dtype=int64), array([2596, 2604], dtype=int64))\n"
     ]
    }
   ],
   "source": [
    "X_pred_logreg_count = logreg_count.predict(count_test)\n",
    "print(np.unique(X_pred_logreg_count,return_counts=True))"
   ]
  },
  {
   "cell_type": "code",
   "execution_count": 72,
   "metadata": {},
   "outputs": [
    {
     "name": "stdout",
     "output_type": "stream",
     "text": [
      "(array([0, 1], dtype=int64), array([2896, 2304], dtype=int64))\n"
     ]
    }
   ],
   "source": [
    "X_pred_nb_classifier_tfidf = nb_classifier_tfidf.predict(tfidf_test)\n",
    "print(np.unique(X_pred_nb_classifier_tfidf,return_counts=True))"
   ]
  },
  {
   "cell_type": "code",
   "execution_count": 73,
   "metadata": {},
   "outputs": [
    {
     "name": "stdout",
     "output_type": "stream",
     "text": [
      "(array([0, 1], dtype=int64), array([2859, 2341], dtype=int64))\n"
     ]
    }
   ],
   "source": [
    "X_pred_nb_classifier_count = nb_classifier_count.predict(count_test)\n",
    "print(np.unique(X_pred_nb_classifier_count,return_counts=True))"
   ]
  },
  {
   "cell_type": "markdown",
   "metadata": {},
   "source": [
    "# Submission"
   ]
  },
  {
   "cell_type": "code",
   "execution_count": 74,
   "metadata": {},
   "outputs": [
    {
     "data": {
      "text/html": [
       "<div>\n",
       "<style scoped>\n",
       "    .dataframe tbody tr th:only-of-type {\n",
       "        vertical-align: middle;\n",
       "    }\n",
       "\n",
       "    .dataframe tbody tr th {\n",
       "        vertical-align: top;\n",
       "    }\n",
       "\n",
       "    .dataframe thead th {\n",
       "        text-align: right;\n",
       "    }\n",
       "</style>\n",
       "<table border=\"1\" class=\"dataframe\">\n",
       "  <thead>\n",
       "    <tr style=\"text-align: right;\">\n",
       "      <th></th>\n",
       "      <th>label</th>\n",
       "    </tr>\n",
       "    <tr>\n",
       "      <th>id</th>\n",
       "      <th></th>\n",
       "    </tr>\n",
       "  </thead>\n",
       "  <tbody>\n",
       "    <tr>\n",
       "      <th>20800</th>\n",
       "      <td>0</td>\n",
       "    </tr>\n",
       "    <tr>\n",
       "      <th>20801</th>\n",
       "      <td>1</td>\n",
       "    </tr>\n",
       "    <tr>\n",
       "      <th>20802</th>\n",
       "      <td>0</td>\n",
       "    </tr>\n",
       "    <tr>\n",
       "      <th>20803</th>\n",
       "      <td>1</td>\n",
       "    </tr>\n",
       "    <tr>\n",
       "      <th>20804</th>\n",
       "      <td>1</td>\n",
       "    </tr>\n",
       "  </tbody>\n",
       "</table>\n",
       "</div>"
      ],
      "text/plain": [
       "       label\n",
       "id          \n",
       "20800      0\n",
       "20801      1\n",
       "20802      0\n",
       "20803      1\n",
       "20804      1"
      ]
     },
     "execution_count": 74,
     "metadata": {},
     "output_type": "execute_result"
    }
   ],
   "source": [
    "submit_df = pd.read_csv('./Fake_news_data/submit.csv',index_col='id')\n",
    "submit_df.head()"
   ]
  },
  {
   "cell_type": "code",
   "execution_count": 75,
   "metadata": {},
   "outputs": [],
   "source": [
    "submit_df['logreg_tfidf'] = X_pred_logreg_tfidf\n",
    "submit_df['logreg_count'] = X_pred_logreg_count\n",
    "submit_df['nbclassifier_tfidf'] = X_pred_nb_classifier_tfidf\n",
    "submit_df['nbclassifier_count'] = X_pred_nb_classifier_count"
   ]
  },
  {
   "cell_type": "code",
   "execution_count": 76,
   "metadata": {},
   "outputs": [
    {
     "data": {
      "text/html": [
       "<div>\n",
       "<style scoped>\n",
       "    .dataframe tbody tr th:only-of-type {\n",
       "        vertical-align: middle;\n",
       "    }\n",
       "\n",
       "    .dataframe tbody tr th {\n",
       "        vertical-align: top;\n",
       "    }\n",
       "\n",
       "    .dataframe thead th {\n",
       "        text-align: right;\n",
       "    }\n",
       "</style>\n",
       "<table border=\"1\" class=\"dataframe\">\n",
       "  <thead>\n",
       "    <tr style=\"text-align: right;\">\n",
       "      <th></th>\n",
       "      <th>label</th>\n",
       "      <th>logreg_tfidf</th>\n",
       "      <th>logreg_count</th>\n",
       "      <th>nbclassifier_tfidf</th>\n",
       "      <th>nbclassifier_count</th>\n",
       "    </tr>\n",
       "    <tr>\n",
       "      <th>id</th>\n",
       "      <th></th>\n",
       "      <th></th>\n",
       "      <th></th>\n",
       "      <th></th>\n",
       "      <th></th>\n",
       "    </tr>\n",
       "  </thead>\n",
       "  <tbody>\n",
       "    <tr>\n",
       "      <th>20800</th>\n",
       "      <td>0</td>\n",
       "      <td>0</td>\n",
       "      <td>0</td>\n",
       "      <td>0</td>\n",
       "      <td>0</td>\n",
       "    </tr>\n",
       "    <tr>\n",
       "      <th>20801</th>\n",
       "      <td>1</td>\n",
       "      <td>1</td>\n",
       "      <td>1</td>\n",
       "      <td>1</td>\n",
       "      <td>1</td>\n",
       "    </tr>\n",
       "    <tr>\n",
       "      <th>20802</th>\n",
       "      <td>0</td>\n",
       "      <td>1</td>\n",
       "      <td>1</td>\n",
       "      <td>1</td>\n",
       "      <td>1</td>\n",
       "    </tr>\n",
       "    <tr>\n",
       "      <th>20803</th>\n",
       "      <td>1</td>\n",
       "      <td>0</td>\n",
       "      <td>0</td>\n",
       "      <td>0</td>\n",
       "      <td>0</td>\n",
       "    </tr>\n",
       "    <tr>\n",
       "      <th>20804</th>\n",
       "      <td>1</td>\n",
       "      <td>1</td>\n",
       "      <td>1</td>\n",
       "      <td>1</td>\n",
       "      <td>1</td>\n",
       "    </tr>\n",
       "    <tr>\n",
       "      <th>...</th>\n",
       "      <td>...</td>\n",
       "      <td>...</td>\n",
       "      <td>...</td>\n",
       "      <td>...</td>\n",
       "      <td>...</td>\n",
       "    </tr>\n",
       "    <tr>\n",
       "      <th>25995</th>\n",
       "      <td>0</td>\n",
       "      <td>0</td>\n",
       "      <td>0</td>\n",
       "      <td>0</td>\n",
       "      <td>0</td>\n",
       "    </tr>\n",
       "    <tr>\n",
       "      <th>25996</th>\n",
       "      <td>1</td>\n",
       "      <td>0</td>\n",
       "      <td>0</td>\n",
       "      <td>0</td>\n",
       "      <td>0</td>\n",
       "    </tr>\n",
       "    <tr>\n",
       "      <th>25997</th>\n",
       "      <td>0</td>\n",
       "      <td>0</td>\n",
       "      <td>0</td>\n",
       "      <td>0</td>\n",
       "      <td>0</td>\n",
       "    </tr>\n",
       "    <tr>\n",
       "      <th>25998</th>\n",
       "      <td>1</td>\n",
       "      <td>1</td>\n",
       "      <td>1</td>\n",
       "      <td>1</td>\n",
       "      <td>1</td>\n",
       "    </tr>\n",
       "    <tr>\n",
       "      <th>25999</th>\n",
       "      <td>0</td>\n",
       "      <td>0</td>\n",
       "      <td>0</td>\n",
       "      <td>0</td>\n",
       "      <td>0</td>\n",
       "    </tr>\n",
       "  </tbody>\n",
       "</table>\n",
       "<p>5200 rows × 5 columns</p>\n",
       "</div>"
      ],
      "text/plain": [
       "       label  logreg_tfidf  logreg_count  nbclassifier_tfidf  \\\n",
       "id                                                             \n",
       "20800      0             0             0                   0   \n",
       "20801      1             1             1                   1   \n",
       "20802      0             1             1                   1   \n",
       "20803      1             0             0                   0   \n",
       "20804      1             1             1                   1   \n",
       "...      ...           ...           ...                 ...   \n",
       "25995      0             0             0                   0   \n",
       "25996      1             0             0                   0   \n",
       "25997      0             0             0                   0   \n",
       "25998      1             1             1                   1   \n",
       "25999      0             0             0                   0   \n",
       "\n",
       "       nbclassifier_count  \n",
       "id                         \n",
       "20800                   0  \n",
       "20801                   1  \n",
       "20802                   1  \n",
       "20803                   0  \n",
       "20804                   1  \n",
       "...                   ...  \n",
       "25995                   0  \n",
       "25996                   0  \n",
       "25997                   0  \n",
       "25998                   1  \n",
       "25999                   0  \n",
       "\n",
       "[5200 rows x 5 columns]"
      ]
     },
     "execution_count": 76,
     "metadata": {},
     "output_type": "execute_result"
    }
   ],
   "source": [
    "submit_df"
   ]
  },
  {
   "cell_type": "code",
   "execution_count": 77,
   "metadata": {},
   "outputs": [],
   "source": [
    "submit_df.to_csv('submission.csv')"
   ]
  },
  {
   "cell_type": "code",
   "execution_count": 78,
   "metadata": {},
   "outputs": [],
   "source": [
    "def accuracy_check(y_pred,y_actual):\n",
    "    accuracy = metrics.accuracy_score(y_pred,y_actual)\n",
    "    return accuracy"
   ]
  },
  {
   "cell_type": "code",
   "execution_count": 79,
   "metadata": {},
   "outputs": [
    {
     "name": "stdout",
     "output_type": "stream",
     "text": [
      "0.6357692307692308\n",
      "0.6363461538461539\n",
      "0.604423076923077\n",
      "0.6092307692307692\n"
     ]
    }
   ],
   "source": [
    "accuracy_logreg_tfidf = accuracy_check(submit_df['logreg_tfidf'],submit_df['label'])\n",
    "print(accuracy_logreg_tfidf)\n",
    "\n",
    "accuracy_logreg_count = accuracy_check(submit_df['logreg_count'],submit_df['label'])\n",
    "print(accuracy_logreg_count)\n",
    "\n",
    "accuracy_nbclassifier_tfidf = accuracy_check(submit_df['nbclassifier_tfidf'],submit_df['label'])\n",
    "print(accuracy_nbclassifier_tfidf)\n",
    "\n",
    "accuracy_nbclassifier_count = accuracy_check(submit_df['nbclassifier_count'],submit_df['label'])\n",
    "print(accuracy_nbclassifier_count)"
   ]
  },
  {
   "cell_type": "code",
   "execution_count": 80,
   "metadata": {},
   "outputs": [],
   "source": [
    "# save the model to disk\n",
    "pickle.dump(logreg_count, open(\"final_model.pkl\", 'wb'))"
   ]
  },
  {
   "cell_type": "markdown",
   "metadata": {},
   "source": [
    "# Testing the model by loading from disk"
   ]
  },
  {
   "cell_type": "code",
   "execution_count": 81,
   "metadata": {},
   "outputs": [
    {
     "name": "stdout",
     "output_type": "stream",
     "text": [
      "(array([0, 1], dtype=int64), array([2596, 2604], dtype=int64))\n"
     ]
    }
   ],
   "source": [
    "# load the model from disk\n",
    "load_model = pickle.load(open(\"final_model.pkl\", 'rb'))\n",
    "check = load_model.predict(count_test)\n",
    "print(np.unique(check,return_counts=True))"
   ]
  },
  {
   "cell_type": "markdown",
   "metadata": {},
   "source": [
    "# Single Entry Testing for App"
   ]
  },
  {
   "cell_type": "code",
   "execution_count": 82,
   "metadata": {},
   "outputs": [],
   "source": [
    "title1 = 'â€˜Age of Empiresâ€™: How 2 Dynasties of Art Forged Chinaâ€™s Identity - The New York Times'\n",
    "author1 = 'Holland Cotter'\n",
    "text1 = 'No one does epic better than the Metropolitan Museum of Art'"
   ]
  },
  {
   "cell_type": "code",
   "execution_count": 83,
   "metadata": {},
   "outputs": [],
   "source": [
    "author_title1 = author1 + ' ' + title1\n",
    "author_title1 = author_title1.lower()\n",
    "author_title1 = \"\".join([ch for ch in author_title1 if ch not in st.punctuation])\n",
    "author_title1 = [word for word in author_title1.split() if word not in stopwords_dict]\n",
    "author_title_clean1 = ' '.join([str(word) for word in author_title1])"
   ]
  },
  {
   "cell_type": "code",
   "execution_count": 85,
   "metadata": {},
   "outputs": [],
   "source": [
    "check_model = pickle.load(open(\"final_model.pkl\", \"rb\"))\n",
    "check_vector = pickle.load(open(\"count_vectorizer.pkl\",\"rb\"))"
   ]
  },
  {
   "cell_type": "code",
   "execution_count": 87,
   "metadata": {},
   "outputs": [
    {
     "data": {
      "text/plain": [
       "array([0], dtype=int64)"
      ]
     },
     "execution_count": 87,
     "metadata": {},
     "output_type": "execute_result"
    }
   ],
   "source": [
    "text_list1 = [author_title_clean1]\n",
    "text_tfidf1 = check_vector.transform(text_list1)\n",
    "check_model.predict(text_tfidf1)"
   ]
  },
  {
   "cell_type": "code",
   "execution_count": null,
   "metadata": {},
   "outputs": [],
   "source": []
  }
 ],
 "metadata": {
  "kernelspec": {
   "display_name": "Python 3",
   "language": "python",
   "name": "python3"
  },
  "language_info": {
   "codemirror_mode": {
    "name": "ipython",
    "version": 3
   },
   "file_extension": ".py",
   "mimetype": "text/x-python",
   "name": "python",
   "nbconvert_exporter": "python",
   "pygments_lexer": "ipython3",
   "version": "3.7.5"
  }
 },
 "nbformat": 4,
 "nbformat_minor": 4
}
